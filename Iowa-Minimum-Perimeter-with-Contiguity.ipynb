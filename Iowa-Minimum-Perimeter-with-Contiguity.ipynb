{
 "cells": [
  {
   "cell_type": "code",
   "execution_count": 1,
   "id": "ac4981c1",
   "metadata": {},
   "outputs": [],
   "source": [
    "from gerrychain import Graph"
   ]
  },
  {
   "cell_type": "code",
   "execution_count": 27,
   "id": "f0bb634e",
   "metadata": {},
   "outputs": [],
   "source": [
    "from gerrychain import Graph\n",
    "import os\n",
    "\n",
    "filepath = '/Users/cherr/anaconda-gurobi/gurobi classes/'\n",
    "filename = 'Iowa_county.json'\n",
    "\n",
    "# Verify if the file is there at the given location.\n",
    "file_path = os.path.join(filepath, filename)\n",
    "if os.path.exists(file_path):\n",
    "    # Proceed to read the file if it exists.\n",
    "    Gr = Graph.from_json(file_path)\n",
    "     # Use the graph to perform operations.\n",
    "else:\n",
    "    print(f\"File '{filename}' not found in the specified directory.\")\n"
   ]
  },
  {
   "cell_type": "code",
   "execution_count": 5,
   "id": "2e7f88ac",
   "metadata": {},
   "outputs": [],
   "source": [
    "for node in Gr.nodes:\n",
    "    Gr.nodes[node]['TOTPOP'] = Gr.nodes[node]['P0010001']\n"
   ]
  },
  {
   "cell_type": "code",
   "execution_count": 6,
   "id": "428c634f",
   "metadata": {},
   "outputs": [
    {
     "name": "stdout",
     "output_type": "stream",
     "text": [
      "Using L = 793605 and U = 801580 and k = 4\n"
     ]
    }
   ],
   "source": [
    "# Let us apply a population deviation of 1% (+/-0.5%).\n",
    "deviation = 0.01\n",
    "\n",
    "import math\n",
    "k = 4          # of districts\n",
    "total_population = sum( Gr.nodes[node]['TOTPOP'] for node in Gr.nodes )\n",
    "\n",
    "L = math.ceil( ( 1 - deviation / 2 ) * total_population / k )\n",
    "U = math.floor( ( 1 + deviation / 2 ) * total_population / k )\n",
    "print(\"Using L =\",L,\"and U =\",U,\"and k =\",k)"
   ]
  },
  {
   "cell_type": "code",
   "execution_count": 7,
   "id": "1ada0db6",
   "metadata": {},
   "outputs": [
    {
     "name": "stdout",
     "output_type": "stream",
     "text": [
      "Set parameter Username\n",
      "Academic license - for non-commercial use only - expires 2024-09-10\n"
     ]
    }
   ],
   "source": [
    "import gurobipy as gp\n",
    "from gurobipy import GRB\n",
    "\n",
    "# create model \n",
    "model = gp.Model()\n",
    "\n",
    "# create variables\n",
    "a = model.addVars(G.nodes, k, vtype=GRB.BINARY) # When county i is allocated to district j, x[i,j] = 1.\n",
    "b = model.addVars(G.edges, vtype=GRB.BINARY)    # When edge {u,v} is sliced, y[u,v] = 1."
   ]
  },
  {
   "cell_type": "code",
   "execution_count": 8,
   "id": "7dde6f80",
   "metadata": {},
   "outputs": [],
   "source": [
    "model.setObjective(gp.quicksum(Gr.edges[u, v]['shared_perim'] * b[u, v] for u, v in Gr.edges), GRB.MINIMIZE)\n"
   ]
  },
  {
   "cell_type": "code",
   "execution_count": 10,
   "id": "62d2c7c7",
   "metadata": {},
   "outputs": [],
   "source": [
    "# add Constraint such that each county is allocated to one district\n",
    "model.addConstrs(gp.quicksum(a[i, j] for j in range(k)) == 1 for i in Gr.nodes)\n",
    "\n",
    "# add Constraints such that each district has population at least L and at most U\n",
    "for j in range(k):\n",
    "    model.addConstr(gp.quicksum(Gr.nodes[i]['TOTPOP'] * a[i, j] for i in Gr.nodes) >= L)\n",
    "    model.addConstr(gp.quicksum(Gr.nodes[i]['TOTPOP'] * a[i, j] for i in Gr.nodes) <= U)\n",
    "\n",
    "# add Constraints to Define cut edges based on district allocations\n",
    "for u, v in Gr.edges:\n",
    "    for j in range(k):\n",
    "        model.addConstr(a[u, j] - a[v, j] <= b[u, v])\n",
    "\n",
    "model.update()\n"
   ]
  },
  {
   "cell_type": "code",
   "execution_count": 11,
   "id": "226001a6",
   "metadata": {},
   "outputs": [],
   "source": [
    "# Let us now introduce contiguity constraints and solve the model again.\n",
    "# The Hojny et al. contiguity constraints will be applied (MPC, 2021).\n",
    "\n",
    "# Incorporate root variables: if node i is the \"root\" of district j, then r[i,j] = 1.\n",
    "root = model.addVars( Gr.nodes, k, vtype=GRB.BINARY)\n",
    "\n",
    "# So let's repair some district roots and solve the MIP more quickly.:\n",
    "\n",
    "root[8,0].LB = 1  # fix Polk county as root of district 0\n",
    "root[88,1].LB = 1 # fix Linn county as root of district 1\n",
    "root[25,2].LB = 1  # fix Scott county as root of district 2\n",
    "\n",
    "# Add flow variables: f[u,v] = amount of flow sent across arc uv \n",
    "#Flows are transmitted across arcs in the directed variant of G, or DG.\n",
    "\n",
    "import networkx as nx\n",
    "DG = nx.DiGraph(G)      # directed version of Guo pandas\n",
    "\n",
    "f = model.addVars( DG.edges )"
   ]
  },
  {
   "cell_type": "code",
   "execution_count": 13,
   "id": "e3905a96",
   "metadata": {},
   "outputs": [],
   "source": [
    "# The big-M proposed by Hojny et al.\n",
    "M = Gr.number_of_nodes() - k + 1\n",
    "\n",
    "#  District J ought to have a single root.\n",
    "model.addConstrs( gp.quicksum( root[i,j] for i in G.nodes ) == 1 for j in range(k) )\n",
    "\n",
    "# Node I cannot be the root of district J if it is not allocated to it.\n",
    "model.addConstrs( root[i,j] <= a[i,j] for i in Gr.nodes for j in range(k) ) \n",
    "\n",
    "# if not a root, consume some flow.\n",
    "# if a root, only send out (so much) flow.\n",
    "model.addConstrs( gp.quicksum( f[j,i] - f[i,j] for j in G.neighbors(i) ) \n",
    "             >= 1 - M * gp.quicksum( root[i,j] for j in range(k) ) for i in G.nodes )\n",
    "\n",
    "# do not send flow across cut edges\n",
    "model.addConstrs( f[i,j] + f[j,i] <= M * ( 1 - b[i,j] ) for i,j in G.edges )\n",
    "\n",
    "model.update()"
   ]
  },
  {
   "cell_type": "code",
   "execution_count": 14,
   "id": "799f2cf6",
   "metadata": {},
   "outputs": [
    {
     "name": "stdout",
     "output_type": "stream",
     "text": [
      "Gurobi Optimizer version 10.0.2 build v10.0.2rc0 (win64)\n",
      "\n",
      "CPU model: AMD Ryzen 5 5600H with Radeon Graphics, instruction set [SSE2|AVX|AVX2]\n",
      "Thread count: 6 physical cores, 12 logical processors, using up to 12 threads\n",
      "\n",
      "Optimize a model with 3210 rows, 1458 columns and 13314 nonzeros\n",
      "Model fingerprint: 0x8b1bdf4a\n",
      "Variable types: 444 continuous, 1014 integer (1014 binary)\n",
      "Coefficient statistics:\n",
      "  Matrix range     [1e+00, 5e+05]\n",
      "  Objective range  [2e-02, 8e-01]\n",
      "  Bounds range     [1e+00, 1e+00]\n",
      "  RHS range        [1e+00, 8e+05]\n",
      "Presolve removed 1860 rows and 327 columns\n",
      "Presolve time: 0.04s\n",
      "Presolved: 1350 rows, 1131 columns, 5574 nonzeros\n",
      "Variable types: 444 continuous, 687 integer (687 binary)\n",
      "\n",
      "Root relaxation: objective 3.550701e+00, 1024 iterations, 0.06 seconds (0.04 work units)\n",
      "\n",
      "    Nodes    |    Current Node    |     Objective Bounds      |     Work\n",
      " Expl Unexpl |  Obj  Depth IntInf | Incumbent    BestBd   Gap | It/Node Time\n",
      "\n",
      "     0     0    3.55070    0  396          -    3.55070      -     -    0s\n",
      "     0     0    3.78282    0  400          -    3.78282      -     -    0s\n",
      "     0     0    3.80257    0  396          -    3.80257      -     -    0s\n",
      "     0     0    3.82887    0  396          -    3.82887      -     -    0s\n",
      "     0     0    3.83041    0  396          -    3.83041      -     -    0s\n",
      "     0     0    3.87436    0  394          -    3.87436      -     -    0s\n",
      "     0     0    3.87619    0  396          -    3.87619      -     -    0s\n",
      "     0     0    3.87893    0  396          -    3.87893      -     -    0s\n",
      "     0     0    3.87893    0  396          -    3.87893      -     -    0s\n",
      "     0     0    3.89220    0  399          -    3.89220      -     -    1s\n",
      "     0     0    3.89812    0  393          -    3.89812      -     -    1s\n",
      "     0     0    3.90001    0  408          -    3.90001      -     -    1s\n",
      "     0     0    3.90365    0  398          -    3.90365      -     -    1s\n",
      "     0     0    3.90365    0  398          -    3.90365      -     -    1s\n",
      "     0     0    3.90377    0  399          -    3.90377      -     -    1s\n",
      "     0     0    3.90377    0  399          -    3.90377      -     -    1s\n",
      "     0     0    3.90503    0  392          -    3.90503      -     -    1s\n",
      "     0     0    3.90526    0  392          -    3.90526      -     -    1s\n",
      "     0     0    3.90534    0  393          -    3.90534      -     -    1s\n",
      "     0     0    3.90534    0  395          -    3.90534      -     -    1s\n",
      "     0     0    3.90534    0  393          -    3.90534      -     -    1s\n",
      "     0     2    3.90659    0  393          -    3.90659      -     -    1s\n",
      "   988  1004    7.39874   18  286          -    5.16128      -   112    5s\n",
      "H 1747  1519                      16.2830855    5.28359  67.6%  47.4    8s\n",
      "H 1972  1611                      15.5404352    5.28359  66.0%  59.8    9s\n",
      "H 2049  1590                      14.6701693    5.28359  64.0%  62.2    9s\n",
      "  2067  1624    9.93275   39  219   14.67017    5.28359  64.0%  62.4   10s\n",
      "H 2121  1565                      14.1994154    5.28359  62.8%  64.0   10s\n",
      "H 2124  1500                      11.2895519    5.28359  53.2%  64.2   10s\n",
      "H 2301  1393                       9.9600381    5.28847  46.9%  70.9   11s\n",
      "  3649  1788    7.15853   19  278    9.96004    6.05885  39.2%   103   15s\n",
      "  5288  2648    9.33001   31  349    9.96004    6.36275  36.1%   116   20s\n",
      "  8465  4396    9.88300   29  301    9.96004    6.67319  33.0%   129   25s\n",
      " 11705  5983    9.82160   32  335    9.96004    6.90108  30.7%   135   30s\n",
      " 15228  7561    9.47392   31  283    9.96004    7.08455  28.9%   136   35s\n",
      " 18179  8854    8.77054   24  413    9.96004    7.21421  27.6%   137   40s\n",
      " 22097 10276    8.89398   24  400    9.96004    7.32977  26.4%   138   45s\n",
      " 25704 11704     cutoff   29         9.96004    7.43584  25.3%   139   50s\n",
      " 29922 13367    8.04164   24  379    9.96004    7.54003  24.3%   139   55s\n",
      " 33545 14671     cutoff   26         9.96004    7.61091  23.6%   140   60s\n",
      " 36145 15716    9.20302   25  399    9.96004    7.66480  23.0%   140   78s\n",
      " 38258 16018    9.60799   26  420    9.96004    7.69796  22.7%   141   81s\n",
      " 40374 16308    9.55638   27  422    9.96004    7.74319  22.3%   143   85s\n",
      " 43391 16905     cutoff   24         9.96004    7.80488  21.6%   147   91s\n",
      " 45774 17330    9.14221   21  364    9.96004    7.84915  21.2%   150   95s\n",
      " 49384 17930    9.71193   32  381    9.96004    7.91546  20.5%   152  101s\n",
      " 52071 18242     cutoff   30         9.96004    7.95352  20.1%   153  105s\n",
      " 55696 18559    9.82091   29  321    9.96004    8.01325  19.5%   155  111s\n",
      " 58004 18834    8.81881   23  362    9.96004    8.04938  19.2%   156  115s\n",
      " 61534 19221    9.78742   24  422    9.96004    8.10143  18.7%   158  120s\n",
      " 65360 19701     cutoff   37         9.96004    8.15784  18.1%   159  126s\n",
      " 67728 19912    9.12317   23  425    9.96004    8.19319  17.7%   160  130s\n",
      " 70784 20180    9.37241   27  331    9.96004    8.23774  17.3%   161  136s\n",
      " 73350 20363     cutoff   29         9.96004    8.27251  16.9%   162  140s\n",
      " 76890 20572    9.58859   31  353    9.96004    8.32095  16.5%   162  145s\n",
      " 80576 20780    9.69395   25  359    9.96004    8.37274  15.9%   163  151s\n",
      " 83006 20952    9.59374   24  399    9.96004    8.40680  15.6%   164  155s\n",
      " 86754 21102     cutoff   28         9.96004    8.45617  15.1%   164  160s\n",
      " 90269 21204    9.37587   25  390    9.96004    8.50740  14.6%   165  166s\n",
      " 92740 21289    9.31201   29  358    9.96004    8.54032  14.3%   165  170s\n",
      " 95913 21340    9.58217   26  378    9.96004    8.58072  13.8%   165  176s\n",
      " 98257 21384    9.48786   25  265    9.96004    8.61897  13.5%   166  180s\n",
      " 102030 21357     cutoff   32         9.96004    8.67739  12.9%   166  186s\n",
      " 104690 21460    9.67362   25  361    9.96004    8.70978  12.6%   167  190s\n",
      " 108699 21541    9.36679   20  387    9.96004    8.75862  12.1%   167  195s\n",
      " 112321 21521    9.85084   28  270    9.96004    8.80114  11.6%   167  201s\n",
      " 115043 21496     cutoff   24         9.96004    8.83382  11.3%   167  205s\n",
      " 118642 21385    9.64757   25  349    9.96004    8.87797  10.9%   167  210s\n",
      " 122146 21301     cutoff   27         9.96004    8.91656  10.5%   167  216s\n",
      "H123912 21184                       9.9600378    8.93123  10.3%   168  218s\n",
      "H124602 21190                       9.9600378    8.94236  10.2%   168  220s\n",
      " 127857 21074    9.91779   27  352    9.96004    8.97967  9.84%   167  226s\n",
      " 130575 20951     cutoff   36         9.96004    9.00443  9.59%   167  230s\n",
      " 134134 20660     cutoff   30         9.96004    9.04478  9.19%   168  235s\n",
      " 137868 20370    9.78363   28  327    9.96004    9.08099  8.83%   168  241s\n",
      " 142047 20178    9.26193   28  349    9.96004    9.11962  8.44%   167  246s\n",
      "H143614 19421                       9.8559431    9.13120  7.35%   167  249s\n",
      " 143987 19330    9.62269   35  228    9.85594    9.13309  7.33%   167  251s\n",
      " 145788 18861     cutoff   27         9.85594    9.15796  7.08%   167  255s\n",
      " 149596 18139    9.59062   27  354    9.85594    9.20185  6.64%   167  261s\n",
      " 152432 17555     cutoff   33         9.85594    9.23412  6.31%   167  265s\n",
      " 156574 16555     cutoff   31         9.85594    9.27996  5.84%   166  270s\n",
      " 160793 15499     cutoff   29         9.85594    9.32415  5.40%   166  275s\n",
      " 164843 14309    9.63254   32  237    9.85594    9.36476  4.98%   165  280s\n",
      " 168729 12905    9.82681   23  365    9.85594    9.40701  4.55%   165  285s\n",
      " 173979 10663     cutoff   24         9.85594    9.46699  3.95%   164  291s\n",
      " 178051  8512     cutoff   25         9.85594    9.52097  3.40%   163  295s\n",
      " 183843  4749    9.82702   30  358    9.85594    9.60245  2.57%   162  301s\n",
      "\n",
      "Cutting planes:\n",
      "  Flow cover: 13\n",
      "  RLT: 148\n",
      "\n",
      "Explored 190788 nodes (30461127 simplex iterations) in 305.01 seconds (397.67 work units)\n",
      "Thread count was 12 (of 12 available processors)\n",
      "\n",
      "Solution count 8: 9.85594 9.85594 9.96004 ... 16.2831\n",
      "\n",
      "Optimal solution found (tolerance 1.00e-04)\n",
      "Best objective 9.855943109572e+00, best bound 9.855943109572e+00, gap 0.0000%\n"
     ]
    }
   ],
   "source": [
    "# solve IP model\n",
    "model.optimize()"
   ]
  },
  {
   "cell_type": "code",
   "execution_count": 17,
   "id": "eb0ceb0e",
   "metadata": {},
   "outputs": [
    {
     "name": "stdout",
     "output_type": "stream",
     "text": [
      "The number of cut edges is 9.855943109571628\n",
      "District 0 has population 798498 and contains counties ['Story', 'Polk', 'Boone', 'Jasper', 'Monroe', 'Lucas', 'Warren', 'Wayne', 'Marion', 'Mahaska', 'Appanoose']\n",
      "\n",
      "District 1 has population 797903 and contains counties ['Wright', 'Mitchell', 'Grundy', 'Winneshiek', 'Marshall', 'Delaware', 'Floyd', 'Hardin', 'Butler', 'Buchanan', 'Cerro Gordo', 'Tama', 'Hamilton', 'Franklin', 'Bremer', 'Allamakee', 'Winnebago', 'Howard', 'Worth', 'Black Hawk', 'Fayette', 'Chickasaw', 'Hancock', 'Poweshiek', 'Benton', 'Linn', 'Clayton']\n",
      "\n",
      "District 2 has population 795577 and contains counties ['Keokuk', 'Davis', 'Jones', 'Des Moines', 'Scott', 'Lee', 'Iowa', 'Wapello', 'Henry', 'Louisa', 'Muscatine', 'Washington', 'Cedar', 'Jefferson', 'Clinton', 'Dubuque', 'Jackson', 'Van Buren', 'Johnson']\n",
      "\n",
      "District 3 has population 798391 and contains counties ['Montgomery', 'Union', 'Sac', 'Audubon', 'Plymouth', 'Pottawattamie', 'Taylor', 'Page', 'Cherokee', 'Fremont', 'Emmet', 'Woodbury', 'Clay', 'Crawford', 'Osceola', 'Greene', 'Lyon', 'Adams', 'Monona', 'Humboldt', \"O'Brien\", 'Guthrie', 'Sioux', 'Ida', 'Cass', 'Decatur', 'Carroll', 'Pocahontas', 'Kossuth', 'Harrison', 'Webster', 'Madison', 'Palo Alto', 'Ringgold', 'Calhoun', 'Clarke', 'Adair', 'Shelby', 'Dickinson', 'Buena Vista', 'Mills', 'Dallas']\n",
      "\n"
     ]
    }
   ],
   "source": [
    "print(\"The number of cut edges is\",model.objval)\n",
    "\n",
    "# retrieve the districts and their populations\n",
    "districts = [ [i for i in Gr.nodes if a[i,j].x > 0.5] for j in range(k)]\n",
    "district_counties = [ [ Gr.nodes[i][\"NAME20\"] for i in districts[j] ] for j in range(k)]\n",
    "district_populations = [ sum(Gr.nodes[i][\"TOTPOP\"] for i in districts[j]) for j in range(k) ]\n",
    "\n",
    "# print district info\n",
    "for j in range(k):\n",
    "    print(\"District\",j,\"has population\",district_populations[j],\"and contains counties\",district_counties[j])\n",
    "    print(\"\")"
   ]
  },
  {
   "cell_type": "code",
   "execution_count": 18,
   "id": "9eaa1f33",
   "metadata": {},
   "outputs": [
    {
     "name": "stdout",
     "output_type": "stream",
     "text": [
      "Collecting geopandas\n",
      "  Using cached geopandas-0.14.1-py3-none-any.whl (1.1 MB)\n",
      "Requirement already satisfied: pandas>=1.4.0 in c:\\users\\cherr\\anaconda-gurobi\\lib\\site-packages (from geopandas) (1.4.4)\n",
      "Requirement already satisfied: packaging in c:\\users\\cherr\\anaconda-gurobi\\lib\\site-packages (from geopandas) (21.3)\n",
      "Collecting pyproj>=3.3.0\n",
      "  Using cached pyproj-3.6.1-cp39-cp39-win_amd64.whl (6.1 MB)\n",
      "Collecting fiona>=1.8.21\n",
      "  Using cached fiona-1.9.5-cp39-cp39-win_amd64.whl (22.9 MB)\n",
      "Collecting shapely>=1.8.0\n",
      "  Using cached shapely-2.0.2-cp39-cp39-win_amd64.whl (1.4 MB)\n",
      "Requirement already satisfied: attrs>=19.2.0 in c:\\users\\cherr\\anaconda-gurobi\\lib\\site-packages (from fiona>=1.8.21->geopandas) (21.4.0)\n",
      "Collecting click-plugins>=1.0\n",
      "  Using cached click_plugins-1.1.1-py2.py3-none-any.whl (7.5 kB)\n",
      "Requirement already satisfied: certifi in c:\\users\\cherr\\anaconda-gurobi\\lib\\site-packages (from fiona>=1.8.21->geopandas) (2022.9.14)\n",
      "Collecting cligj>=0.5\n",
      "  Using cached cligj-0.7.2-py3-none-any.whl (7.1 kB)\n",
      "Requirement already satisfied: importlib-metadata in c:\\users\\cherr\\anaconda-gurobi\\lib\\site-packages (from fiona>=1.8.21->geopandas) (4.11.3)\n",
      "Requirement already satisfied: click~=8.0 in c:\\users\\cherr\\anaconda-gurobi\\lib\\site-packages (from fiona>=1.8.21->geopandas) (8.0.4)\n",
      "Requirement already satisfied: six in c:\\users\\cherr\\anaconda-gurobi\\lib\\site-packages (from fiona>=1.8.21->geopandas) (1.16.0)\n",
      "Requirement already satisfied: setuptools in c:\\users\\cherr\\anaconda-gurobi\\lib\\site-packages (from fiona>=1.8.21->geopandas) (63.4.1)\n",
      "Requirement already satisfied: python-dateutil>=2.8.1 in c:\\users\\cherr\\anaconda-gurobi\\lib\\site-packages (from pandas>=1.4.0->geopandas) (2.8.2)\n",
      "Requirement already satisfied: pytz>=2020.1 in c:\\users\\cherr\\anaconda-gurobi\\lib\\site-packages (from pandas>=1.4.0->geopandas) (2022.1)\n",
      "Requirement already satisfied: numpy>=1.18.5 in c:\\users\\cherr\\anaconda-gurobi\\lib\\site-packages (from pandas>=1.4.0->geopandas) (1.21.5)\n",
      "Requirement already satisfied: pyparsing!=3.0.5,>=2.0.2 in c:\\users\\cherr\\anaconda-gurobi\\lib\\site-packages (from packaging->geopandas) (3.0.9)\n",
      "Requirement already satisfied: colorama in c:\\users\\cherr\\anaconda-gurobi\\lib\\site-packages (from click~=8.0->fiona>=1.8.21->geopandas) (0.4.5)\n",
      "Requirement already satisfied: zipp>=0.5 in c:\\users\\cherr\\anaconda-gurobi\\lib\\site-packages (from importlib-metadata->fiona>=1.8.21->geopandas) (3.8.0)\n",
      "Installing collected packages: shapely, pyproj, cligj, click-plugins, fiona, geopandas\n",
      "Successfully installed click-plugins-1.1.1 cligj-0.7.2 fiona-1.9.5 geopandas-0.14.1 pyproj-3.6.1 shapely-2.0.2\n",
      "Note: you may need to restart the kernel to use updated packages.\n"
     ]
    }
   ],
   "source": [
    "pip install geopandas"
   ]
  },
  {
   "cell_type": "code",
   "execution_count": 19,
   "id": "a52ec5a8",
   "metadata": {},
   "outputs": [],
   "source": [
    "# Let's draw the new congressional districts on the map\n",
    "import geopandas as gpd"
   ]
  },
  {
   "cell_type": "code",
   "execution_count": 24,
   "id": "75d30d73",
   "metadata": {},
   "outputs": [],
   "source": [
    "# Read Iowa county shapefile from \"Iowa_county.shp\"\n",
    "filepath = 'C:/Users/cherr/anaconda-gurobi/gurobi classes/'\n",
    "filename = 'Iowa_county.shp'\n",
    "\n",
    "# Read geopandas dataframe from file\n",
    "df = gpd.read_file( filepath + filename )\n"
   ]
  },
  {
   "cell_type": "code",
   "execution_count": 25,
   "id": "604f7f5c",
   "metadata": {},
   "outputs": [
    {
     "data": {
      "image/png": "[encoded data removed]",
      "text/plain": [
       "<Figure size 640x480 with 1 Axes>"
      ]
     },
     "metadata": {},
     "output_type": "display_data"
    }
   ],
   "source": [
    "import geopandas as gpd\n",
    "import matplotlib.pyplot as plt\n",
    "\n",
    "#running the code to check if the graph is being generated\n",
    "# Plot the shapefile data\n",
    "df.plot()\n",
    "plt.show()\n"
   ]
  },
  {
   "cell_type": "code",
   "execution_count": 26,
   "id": "0060bd89",
   "metadata": {},
   "outputs": [
    {
     "data": {
      "image/png": "[encoded data removed]",
      "text/plain": [
       "<Figure size 640x480 with 1 Axes>"
      ]
     },
     "metadata": {},
     "output_type": "display_data"
    }
   ],
   "source": [
    "# To Which district each county is assigned to?\n",
    "assignment = [ -1 for i in Gr.nodes ]\n",
    "\n",
    "labeling = { i : j for i in Gr.nodes for j in range(k) if a[i,j].x > 0.5 }\n",
    "\n",
    "# Now, add the assignments to a dataframe column and map it.\n",
    "#node_with_this_geoid = { G.nodes[i]['GEOID20'] : i for i in G.nodes }\n",
    "\n",
    "# Check if the 'GEOID20' column exists in the DataFrame\n",
    "if 'GEOID20' in df.columns:\n",
    "    node_with_this_geoid = {row['GEOID20']: node for node, row in Gr.nodes(data=True)}\n",
    "\n",
    "    # Loop through the DataFrame rows\n",
    "    for u in range(len(df)):\n",
    "        geoid = df.at[u, 'GEOID20']  # Access 'GEOID20' column for each row\n",
    "\n",
    "        # Check if the geoid exists in the node_with_this_geoid dictionary\n",
    "        if geoid in node_with_this_geoid:\n",
    "            i = node_with_this_geoid[geoid]\n",
    "            assignment[u] = labeling.get(i, -1)  # Assign district number or -1 if not found\n",
    "        else:\n",
    "            print(f\"No node found in Gr for GEOID20: {geoid}\")\n",
    "else:\n",
    "    print(\"Column 'GEOID20' not found in the DataFrame.\")\n",
    "\n",
    "\n",
    "# now add the assignments to a column of our dataframe and then map it\n",
    "df['assignment'] = assignment\n",
    "#df.scatter(-60, -30, color='red', transform=ccrs.PlateCarree())\n",
    "my_fig = df.plot(column='assignment').get_figure()"
   ]
  },
  {
   "cell_type": "code",
   "execution_count": null,
   "id": "e95107a8",
   "metadata": {},
   "outputs": [],
   "source": []
  }
 ],
 "metadata": {
  "kernelspec": {
   "display_name": "Python 3 (ipykernel)",
   "language": "python",
   "name": "python3"
  },
  "language_info": {
   "codemirror_mode": {
    "name": "ipython",
    "version": 3
   },
   "file_extension": ".py",
   "mimetype": "text/x-python",
   "name": "python",
   "nbconvert_exporter": "python",
   "pygments_lexer": "ipython3",
   "version": "3.9.13"
  }
 },
 "nbformat": 4,
 "nbformat_minor": 5
}
